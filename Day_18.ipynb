{
  "nbformat": 4,
  "nbformat_minor": 0,
  "metadata": {
    "colab": {
      "name": "Day 18.ipynb",
      "provenance": []
    },
    "kernelspec": {
      "name": "python3",
      "display_name": "Python 3"
    },
    "language_info": {
      "name": "python"
    }
  },
  "cells": [
    {
      "cell_type": "markdown",
      "metadata": {
        "id": "padYZLhis24W"
      },
      "source": [
        "監督式學習:\n",
        "\n",
        "優點:可控制且好判斷結果優劣，方便進行調整\n",
        "\n",
        "缺點:一定要進行資料標籤，若沒有正確答案則無法進行"
      ]
    },
    {
      "cell_type": "markdown",
      "metadata": {
        "id": "_ceJO7vZtq1I"
      },
      "source": [
        "非監督式學習:\n",
        "\n",
        "優點:可能會自己找出其他的判斷標準，且可能比原本預設的標準更好\n",
        "\n",
        "缺點:不易控制缺點:不易人工控制分類的標準"
      ]
    }
  ]
}