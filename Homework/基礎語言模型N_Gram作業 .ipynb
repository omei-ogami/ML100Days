{
 "cells": [
  {
   "cell_type": "markdown",
   "metadata": {
    "id": "wf8M-HWw6IoR"
   },
   "source": [
    "### 作業目標: 了解N-Gram如何藉由文本計算機率"
   ]
  },
  {
   "cell_type": "markdown",
   "metadata": {
    "id": "FJq77R_U6Iol"
   },
   "source": [
    "### 為何需要使用馬可夫假設來簡化語言模型的計算?\n",
    "\n",
    "原本的語言模型利用貝氏定理計算機率時為:\n",
    "$$\n",
    "\\begin{aligned}\n",
    "&W = (W_1W_2W_3W_4…W_m) \\\\\n",
    "&P(W_1,W_2,W_3,W_4,…,W_m) = P(W_1)*P(W_2|W_1)*P(W_3|W_1,W_2)*…*P(W_m|W_1,…,W_{m-1})\n",
    "\\end{aligned}\n",
    "$$\n",
    "\n",
    "為何需要引入馬可夫假設使機率簡化為:\n",
    "$$\n",
    "P(W_m|W_1,W_2,W_3,…,W_{m-1}) = P(W_m|W_{m-n+1},W_{m-n+2},…,W_{m-1})\n",
    "$$"
   ]
  },
  {
   "cell_type": "markdown",
   "metadata": {
    "id": "Ybaq56RoHH8h"
   },
   "source": [
    "答：\n",
    "馬可夫假設在這裡是利用前一個單字來判斷接下來的單字是否合理。\n",
    "而一般在判斷句子是否通順時，只需判斷每個單字前後的用是否合理即可。\n",
    "因此此時選擇用馬可夫假設來簡化機率會較為適當。"
   ]
  },
  {
   "cell_type": "markdown",
   "metadata": {
    "id": "kSpTfYhd6Iop"
   },
   "source": [
    "### 以Bigram模型下判斷語句是否合理\n",
    "\n",
    "已知的機率值有\n",
    "1. p(i|_start_) = 0.25\n",
    "2. p(english|want) = 0.0011\n",
    "3. p(food|english) = 0.5\n",
    "4. p(_end_|food) = 0.68\n",
    "5. P(want|_start_) = 0.25\n",
    "6. P(english|i) = 0.0011"
   ]
  },
  {
   "cell_type": "code",
   "execution_count": null,
   "metadata": {
    "colab": {
     "base_uri": "https://localhost:8080/",
     "height": 79
    },
    "id": "C0dz4g_h6Ioq",
    "outputId": "622a029e-58af-4b8a-dac1-c6ef5d74038a",
    "scrolled": true
   },
   "outputs": [
    {
     "data": {
      "text/html": [
       "<div>\n",
       "<style scoped>\n",
       "    .dataframe tbody tr th:only-of-type {\n",
       "        vertical-align: middle;\n",
       "    }\n",
       "\n",
       "    .dataframe tbody tr th {\n",
       "        vertical-align: top;\n",
       "    }\n",
       "\n",
       "    .dataframe thead th {\n",
       "        text-align: right;\n",
       "    }\n",
       "</style>\n",
       "<table border=\"1\" class=\"dataframe\">\n",
       "  <thead>\n",
       "    <tr style=\"text-align: right;\">\n",
       "      <th></th>\n",
       "      <th>i</th>\n",
       "      <th>want</th>\n",
       "      <th>to</th>\n",
       "      <th>eat</th>\n",
       "      <th>chinese</th>\n",
       "      <th>food</th>\n",
       "      <th>lunch</th>\n",
       "      <th>spend</th>\n",
       "    </tr>\n",
       "  </thead>\n",
       "  <tbody>\n",
       "    <tr>\n",
       "      <th>0</th>\n",
       "      <td>2533</td>\n",
       "      <td>927</td>\n",
       "      <td>2417</td>\n",
       "      <td>746</td>\n",
       "      <td>158</td>\n",
       "      <td>1093</td>\n",
       "      <td>341</td>\n",
       "      <td>278</td>\n",
       "    </tr>\n",
       "  </tbody>\n",
       "</table>\n",
       "</div>"
      ],
      "text/plain": [
       "      i  want    to  eat  chinese  food  lunch  spend\n",
       "0  2533   927  2417  746      158  1093    341    278"
      ]
     },
     "execution_count": 9,
     "metadata": {
      "tags": []
     },
     "output_type": "execute_result"
    }
   ],
   "source": [
    "import numpy as np\n",
    "import pandas as pd\n",
    "words = ['i', 'want', 'to', 'eat', 'chinese', 'food', 'lunch', 'spend']\n",
    "word_cnts = np.array([2533, 927, 2417, 746, 158, 1093, 341, 278]).reshape(1, -1)\n",
    "df_word_cnts = pd.DataFrame(word_cnts, columns=words)\n",
    "df_word_cnts"
   ]
  },
  {
   "cell_type": "code",
   "execution_count": null,
   "metadata": {
    "colab": {
     "base_uri": "https://localhost:8080/",
     "height": 294
    },
    "id": "O0gORkjV6Iou",
    "outputId": "6a7e979e-9ba4-4323-c4cb-392de6025209"
   },
   "outputs": [
    {
     "data": {
      "text/html": [
       "<div>\n",
       "<style scoped>\n",
       "    .dataframe tbody tr th:only-of-type {\n",
       "        vertical-align: middle;\n",
       "    }\n",
       "\n",
       "    .dataframe tbody tr th {\n",
       "        vertical-align: top;\n",
       "    }\n",
       "\n",
       "    .dataframe thead th {\n",
       "        text-align: right;\n",
       "    }\n",
       "</style>\n",
       "<table border=\"1\" class=\"dataframe\">\n",
       "  <thead>\n",
       "    <tr style=\"text-align: right;\">\n",
       "      <th></th>\n",
       "      <th>i</th>\n",
       "      <th>want</th>\n",
       "      <th>to</th>\n",
       "      <th>eat</th>\n",
       "      <th>chinese</th>\n",
       "      <th>food</th>\n",
       "      <th>lunch</th>\n",
       "      <th>spend</th>\n",
       "    </tr>\n",
       "  </thead>\n",
       "  <tbody>\n",
       "    <tr>\n",
       "      <th>i</th>\n",
       "      <td>5</td>\n",
       "      <td>827</td>\n",
       "      <td>0</td>\n",
       "      <td>9</td>\n",
       "      <td>0</td>\n",
       "      <td>0</td>\n",
       "      <td>0</td>\n",
       "      <td>2</td>\n",
       "    </tr>\n",
       "    <tr>\n",
       "      <th>want</th>\n",
       "      <td>2</td>\n",
       "      <td>0</td>\n",
       "      <td>608</td>\n",
       "      <td>1</td>\n",
       "      <td>6</td>\n",
       "      <td>6</td>\n",
       "      <td>5</td>\n",
       "      <td>1</td>\n",
       "    </tr>\n",
       "    <tr>\n",
       "      <th>to</th>\n",
       "      <td>2</td>\n",
       "      <td>0</td>\n",
       "      <td>4</td>\n",
       "      <td>686</td>\n",
       "      <td>2</td>\n",
       "      <td>0</td>\n",
       "      <td>6</td>\n",
       "      <td>211</td>\n",
       "    </tr>\n",
       "    <tr>\n",
       "      <th>eat</th>\n",
       "      <td>0</td>\n",
       "      <td>0</td>\n",
       "      <td>2</td>\n",
       "      <td>0</td>\n",
       "      <td>16</td>\n",
       "      <td>2</td>\n",
       "      <td>42</td>\n",
       "      <td>0</td>\n",
       "    </tr>\n",
       "    <tr>\n",
       "      <th>chinese</th>\n",
       "      <td>1</td>\n",
       "      <td>0</td>\n",
       "      <td>0</td>\n",
       "      <td>0</td>\n",
       "      <td>0</td>\n",
       "      <td>82</td>\n",
       "      <td>1</td>\n",
       "      <td>0</td>\n",
       "    </tr>\n",
       "    <tr>\n",
       "      <th>food</th>\n",
       "      <td>15</td>\n",
       "      <td>0</td>\n",
       "      <td>15</td>\n",
       "      <td>0</td>\n",
       "      <td>1</td>\n",
       "      <td>4</td>\n",
       "      <td>0</td>\n",
       "      <td>0</td>\n",
       "    </tr>\n",
       "    <tr>\n",
       "      <th>lunch</th>\n",
       "      <td>2</td>\n",
       "      <td>0</td>\n",
       "      <td>0</td>\n",
       "      <td>0</td>\n",
       "      <td>0</td>\n",
       "      <td>1</td>\n",
       "      <td>0</td>\n",
       "      <td>0</td>\n",
       "    </tr>\n",
       "    <tr>\n",
       "      <th>spend</th>\n",
       "      <td>1</td>\n",
       "      <td>0</td>\n",
       "      <td>1</td>\n",
       "      <td>0</td>\n",
       "      <td>0</td>\n",
       "      <td>0</td>\n",
       "      <td>0</td>\n",
       "      <td>0</td>\n",
       "    </tr>\n",
       "  </tbody>\n",
       "</table>\n",
       "</div>"
      ],
      "text/plain": [
       "          i  want   to  eat  chinese  food  lunch  spend\n",
       "i         5   827    0    9        0     0      0      2\n",
       "want      2     0  608    1        6     6      5      1\n",
       "to        2     0    4  686        2     0      6    211\n",
       "eat       0     0    2    0       16     2     42      0\n",
       "chinese   1     0    0    0        0    82      1      0\n",
       "food     15     0   15    0        1     4      0      0\n",
       "lunch     2     0    0    0        0     1      0      0\n",
       "spend     1     0    1    0        0     0      0      0"
      ]
     },
     "execution_count": 12,
     "metadata": {
      "tags": []
     },
     "output_type": "execute_result"
    }
   ],
   "source": [
    "# 記錄當前字與前一個字詞的存在頻率\n",
    "bigram_word_cnts = [[5, 827, 0, 9, 0, 0, 0, 2], [2, 0, 608, 1, 6, 6, 5, 1], [2, 0, 4, 686, 2, 0, 6, 211],\n",
    "                    [0, 0, 2, 0, 16, 2, 42, 0], [1, 0, 0, 0, 0, 82, 1, 0], [15, 0, 15, 0, 1, 4, 0, 0],\n",
    "                    [2, 0, 0, 0, 0, 1, 0, 0], [1, 0, 1, 0, 0, 0, 0, 0]]\n",
    "\n",
    "df_bigram_word_cnts = pd.DataFrame(bigram_word_cnts, columns=words, index=words)\n",
    "df_bigram_word_cnts"
   ]
  },
  {
   "cell_type": "markdown",
   "metadata": {
    "id": "rLCY0zYy6Iow"
   },
   "source": [
    "由上表可知當前一個字詞(列)是want的時候, 當前字詞(行)是to的頻率在文本中共有608次"
   ]
  },
  {
   "cell_type": "code",
   "execution_count": null,
   "metadata": {
    "colab": {
     "base_uri": "https://localhost:8080/",
     "height": 297
    },
    "id": "PY29WHiQ6Iox",
    "outputId": "3f921d6c-1ed7-417b-ef94-47c333e4306e"
   },
   "outputs": [
    {
     "data": {
      "text/html": [
       "<div>\n",
       "<style scoped>\n",
       "    .dataframe tbody tr th:only-of-type {\n",
       "        vertical-align: middle;\n",
       "    }\n",
       "\n",
       "    .dataframe tbody tr th {\n",
       "        vertical-align: top;\n",
       "    }\n",
       "\n",
       "    .dataframe thead th {\n",
       "        text-align: right;\n",
       "    }\n",
       "</style>\n",
       "<table border=\"1\" class=\"dataframe\">\n",
       "  <thead>\n",
       "    <tr style=\"text-align: right;\">\n",
       "      <th></th>\n",
       "      <th>i</th>\n",
       "      <th>want</th>\n",
       "      <th>to</th>\n",
       "      <th>eat</th>\n",
       "      <th>chinese</th>\n",
       "      <th>food</th>\n",
       "      <th>lunch</th>\n",
       "      <th>spend</th>\n",
       "    </tr>\n",
       "  </thead>\n",
       "  <tbody>\n",
       "    <tr>\n",
       "      <th>i</th>\n",
       "      <td>0.00197</td>\n",
       "      <td>0.89213</td>\n",
       "      <td>0.00000</td>\n",
       "      <td>0.01206</td>\n",
       "      <td>0.00000</td>\n",
       "      <td>0.00000</td>\n",
       "      <td>0.00000</td>\n",
       "      <td>0.00719</td>\n",
       "    </tr>\n",
       "    <tr>\n",
       "      <th>want</th>\n",
       "      <td>0.00079</td>\n",
       "      <td>0.00000</td>\n",
       "      <td>0.25155</td>\n",
       "      <td>0.00134</td>\n",
       "      <td>0.03797</td>\n",
       "      <td>0.00549</td>\n",
       "      <td>0.01466</td>\n",
       "      <td>0.00360</td>\n",
       "    </tr>\n",
       "    <tr>\n",
       "      <th>to</th>\n",
       "      <td>0.00079</td>\n",
       "      <td>0.00000</td>\n",
       "      <td>0.00165</td>\n",
       "      <td>0.91957</td>\n",
       "      <td>0.01266</td>\n",
       "      <td>0.00000</td>\n",
       "      <td>0.01760</td>\n",
       "      <td>0.75899</td>\n",
       "    </tr>\n",
       "    <tr>\n",
       "      <th>eat</th>\n",
       "      <td>0.00000</td>\n",
       "      <td>0.00000</td>\n",
       "      <td>0.00083</td>\n",
       "      <td>0.00000</td>\n",
       "      <td>0.10127</td>\n",
       "      <td>0.00183</td>\n",
       "      <td>0.12317</td>\n",
       "      <td>0.00000</td>\n",
       "    </tr>\n",
       "    <tr>\n",
       "      <th>chinese</th>\n",
       "      <td>0.00039</td>\n",
       "      <td>0.00000</td>\n",
       "      <td>0.00000</td>\n",
       "      <td>0.00000</td>\n",
       "      <td>0.00000</td>\n",
       "      <td>0.07502</td>\n",
       "      <td>0.00293</td>\n",
       "      <td>0.00000</td>\n",
       "    </tr>\n",
       "    <tr>\n",
       "      <th>food</th>\n",
       "      <td>0.00592</td>\n",
       "      <td>0.00000</td>\n",
       "      <td>0.00621</td>\n",
       "      <td>0.00000</td>\n",
       "      <td>0.00633</td>\n",
       "      <td>0.00366</td>\n",
       "      <td>0.00000</td>\n",
       "      <td>0.00000</td>\n",
       "    </tr>\n",
       "    <tr>\n",
       "      <th>lunch</th>\n",
       "      <td>0.00079</td>\n",
       "      <td>0.00000</td>\n",
       "      <td>0.00000</td>\n",
       "      <td>0.00000</td>\n",
       "      <td>0.00000</td>\n",
       "      <td>0.00091</td>\n",
       "      <td>0.00000</td>\n",
       "      <td>0.00000</td>\n",
       "    </tr>\n",
       "    <tr>\n",
       "      <th>spend</th>\n",
       "      <td>0.00039</td>\n",
       "      <td>0.00000</td>\n",
       "      <td>0.00041</td>\n",
       "      <td>0.00000</td>\n",
       "      <td>0.00000</td>\n",
       "      <td>0.00000</td>\n",
       "      <td>0.00000</td>\n",
       "      <td>0.00000</td>\n",
       "    </tr>\n",
       "  </tbody>\n",
       "</table>\n",
       "</div>"
      ],
      "text/plain": [
       "               i     want       to      eat  chinese     food    lunch    spend\n",
       "i        0.00197  0.89213  0.00000  0.01206  0.00000  0.00000  0.00000  0.00719\n",
       "want     0.00079  0.00000  0.25155  0.00134  0.03797  0.00549  0.01466  0.00360\n",
       "to       0.00079  0.00000  0.00165  0.91957  0.01266  0.00000  0.01760  0.75899\n",
       "eat      0.00000  0.00000  0.00083  0.00000  0.10127  0.00183  0.12317  0.00000\n",
       "chinese  0.00039  0.00000  0.00000  0.00000  0.00000  0.07502  0.00293  0.00000\n",
       "food     0.00592  0.00000  0.00621  0.00000  0.00633  0.00366  0.00000  0.00000\n",
       "lunch    0.00079  0.00000  0.00000  0.00000  0.00000  0.00091  0.00000  0.00000\n",
       "spend    0.00039  0.00000  0.00041  0.00000  0.00000  0.00000  0.00000  0.00000"
      ]
     },
     "execution_count": 17,
     "metadata": {
      "tags": []
     },
     "output_type": "execute_result"
    }
   ],
   "source": [
    "#請根據給出的總詞頻(df_word_cnts)與bigram模型的詞頻(df_bigram_word_cnts)計算出所有詞的配對機率(ex:p(want|i))\n",
    "df_bigram_prob = df_bigram_word_cnts.copy()\n",
    "\n",
    "per = []\n",
    "for index in range(len(words)):\n",
    "  per.append([])\n",
    "  for column in range(len(words)):\n",
    "    per[index].append(round(bigram_word_cnts[index][column] / word_cnts[0][column], 5))\n",
    "df_bigram_prob = pd.DataFrame(per, columns=words, index=words)\n",
    "   \n",
    "df_bigram_prob"
   ]
  },
  {
   "cell_type": "markdown",
   "metadata": {
    "id": "eQqiS9Z46Ioy"
   },
   "source": [
    "請根據已給的機率與所計算出的機率(df_bigram_prob), 試著判斷下列兩個句子哪個較為合理\n",
    "\n",
    "s1 = “i want english food”\n",
    "\n",
    "s2 = \"want i english food\""
   ]
  },
  {
   "cell_type": "markdown",
   "metadata": {
    "id": "PyI1WRnlG3jO"
   },
   "source": [
    "答：s1\n",
    "\n",
    "對前兩個單字而言，\n",
    "\"i want\"的機率 (0.89213) 大於 \"want i\"的機率 (0.00079)\n"
   ]
  }
 ],
 "metadata": {
  "colab": {
   "name": "基礎語言模型N_Gram作業.ipynb",
   "provenance": []
  },
  "kernelspec": {
   "display_name": "Python 3",
   "language": "python",
   "name": "python3"
  },
  "language_info": {
   "codemirror_mode": {
    "name": "ipython",
    "version": 3
   },
   "file_extension": ".py",
   "mimetype": "text/x-python",
   "name": "python",
   "nbconvert_exporter": "python",
   "pygments_lexer": "ipython3",
   "version": "3.7.3"
  }
 },
 "nbformat": 4,
 "nbformat_minor": 1
}
