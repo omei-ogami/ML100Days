{
 "cells": [
  {
   "cell_type": "markdown",
   "metadata": {
    "id": "38z3p9JaOmNi"
   },
   "source": [
    "## 作業目標: 了解斷詞演算法的背後計算"
   ]
  },
  {
   "cell_type": "markdown",
   "metadata": {
    "id": "0y2as6ruOmNi"
   },
   "source": [
    "### 根據課程講述的內容, 請計算出下列剩餘所有情況的\n",
    "若有一個人連續觀察到三天水草都是乾燥的(Dry), 則這三天的天氣機率為何？(可參考講義第13頁)\n",
    "(Hint: 共有8種可能機率)\n",
    "\n",
    "```python\n",
    "states = ('sunny', 'rainy')\n",
    "observations = ('dry', 'damp', 'soggy')\n",
    "start_probability = {'sunny': 0.4, 'rainy': 0.6}\n",
    "transition_probability = {'sunny':{'sunny':0.6, 'rainy':0.4},\n",
    "                          'rainy': {'sunny':0.3, 'rainy':0.7}}\n",
    "emission_probatility = {'sunny': {'dry':0.6, 'damp':0.3, 'soggy':0.1},\n",
    "                        'rainy': {'dry':0.1, 'damp':0.4, 'soggy':0.5}}\n",
    "```"
   ]
  },
  {
   "cell_type": "markdown",
   "metadata": {
    "id": "F_c_PImgOmNi"
   },
   "source": [
    "```\n",
    "觀察狀態 = 'dry', 'dry', 'dry'\n",
    "Sunny, Sunny, Sunny: 0.4*(0.6)*0.6*(0.6)*0.6*(0.6) = 0.031104\n",
    "Rainy, Sunny, Sunny: 0.6*(0.1)*0.3*(0.6)*0.6*(0.6) = 0.003888\n",
    "Sunny, Rainy, Sunny: 0.4*(0.6)*0.4*(0.1)*0.3*(0.6) = 0.001728\n",
    "Sunny, Sunny, Rainy: 0.4*(0.6)*0.6*(0.6)*0.4*(0.1) = 0.003456\n",
    "Sunny, Rainy, Rainy: 0.4*(0.6)*0.4*(0.1)*0.7*(0.1) = 0.000672\n",
    "Rainy, Sunny, Rainy: 0.6*(0.1)*0.3*(0.6)*0.4*(0.1) = 0.000432\n",
    "Rainy, Rainy, Sunny: 0.6*(0.1)*0.7*(0.1)*0.3*(0.6) = 0.000756\n",
    "Rainy, Rainy, Rainy: 0.6*(0.1)*0.7*(0.1)*0.7*(0.1) = 0.000294\n",
    "\n",
    "最大機率為: Sunny, Sunny, Sunny\n",
    "```"
   ]
  },
  {
   "cell_type": "markdown",
   "metadata": {
    "id": "kFgdm7UOOmNi"
   },
   "source": [
    "### 根據上述條件, 寫出Viterbi應用程式"
   ]
  },
  {
   "cell_type": "code",
   "execution_count": 1,
   "metadata": {
    "id": "EpzqD5frOmNi"
   },
   "outputs": [],
   "source": [
    "observations = ('dry', 'dry', 'dry') #實際上觀察到的狀態為dry, dry, dry\n",
    "states = ('sunny', 'rainy')\n",
    "start_probability = {'sunny': 0.4, 'rainy': 0.6}\n",
    "transition_probability = {'sunny':{'sunny':0.6, 'rainy':0.4},\n",
    "                          'rainy': {'sunny':0.3, 'rainy':0.7}}\n",
    "emission_probatility = {'sunny': {'dry':0.6, 'damp':0.3, 'soggy':0.1},\n",
    "                        'rainy': {'dry':0.1, 'damp':0.4, 'soggy':0.5}}"
   ]
  },
  {
   "cell_type": "code",
   "execution_count": 2,
   "metadata": {
    "id": "KYECaY54OmNj"
   },
   "outputs": [],
   "source": [
    "def viterbi(obs, states, start_p, trans_p, emit_p):\n",
    "    V = [{}]\n",
    "    path = {}\n",
    "\n",
    "    # Initialize base cases (t == 0)\n",
    "    for y in states:\n",
    "      V[0][y] = start_p[y] * emit_p[y][obs[0]]\n",
    "      path[y] = [y]\n",
    "        \n",
    "    # Run Viterbi for t > 0\n",
    "    for t in range(1,len(obs)):\n",
    "      V.append({})\n",
    "      newpath = {}\n",
    "\n",
    "      for now in states:\n",
    "        per = []\n",
    "        state = []\n",
    "        for pre in states:\n",
    "          per.append(V[t-1][pre] * trans_p[pre][now] * emit_p[now][obs[t]])\n",
    "          state.append(pre)\n",
    "        prob = max(per)\n",
    "        fstate = state[per.index(prob)]\n",
    "        Ｖ[t][now] = prob\n",
    "        newpath[now] = path[fstate] + [now]\n",
    "        \n",
    "        # Don't need to remember the old paths\n",
    "        path = newpath\n",
    "    \n",
    "    (prob, state) = max([(V[len(obs) - 1][final_state], final_state) for final_state in states])\n",
    "    return (prob, path[state])"
   ]
  },
  {
   "cell_type": "code",
   "execution_count": 3,
   "metadata": {
    "id": "7pRng69EOmNj"
   },
   "outputs": [],
   "source": [
    "result = viterbi(observations, \n",
    "                 states, \n",
    "                 start_probability, \n",
    "                 transition_probability, \n",
    "                 emission_probatility)"
   ]
  },
  {
   "cell_type": "code",
   "execution_count": 4,
   "metadata": {
    "colab": {
     "base_uri": "https://localhost:8080/"
    },
    "id": "zW9OJn_EOmNj",
    "outputId": "7c09bb5e-e899-4fac-eea0-c0e334415d6a"
   },
   "outputs": [
    {
     "data": {
      "text/plain": [
       "(0.031103999999999993, ['sunny', 'sunny', 'sunny'])"
      ]
     },
     "execution_count": 4,
     "metadata": {},
     "output_type": "execute_result"
    }
   ],
   "source": [
    "result"
   ]
  },
  {
   "cell_type": "code",
   "execution_count": null,
   "metadata": {},
   "outputs": [],
   "source": []
  }
 ],
 "metadata": {
  "colab": {
   "collapsed_sections": [],
   "name": "斷詞作業.ipynb",
   "provenance": []
  },
  "kernelspec": {
   "display_name": "Python 3",
   "language": "python",
   "name": "python3"
  },
  "language_info": {
   "codemirror_mode": {
    "name": "ipython",
    "version": 3
   },
   "file_extension": ".py",
   "mimetype": "text/x-python",
   "name": "python",
   "nbconvert_exporter": "python",
   "pygments_lexer": "ipython3",
   "version": "3.7.3"
  }
 },
 "nbformat": 4,
 "nbformat_minor": 1
}
