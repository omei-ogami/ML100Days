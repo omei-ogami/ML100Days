{
  "nbformat": 4,
  "nbformat_minor": 0,
  "metadata": {
    "kernelspec": {
      "display_name": "cupoy_env",
      "language": "python",
      "name": "cupoy_env"
    },
    "language_info": {
      "codemirror_mode": {
        "name": "ipython",
        "version": 3
      },
      "file_extension": ".py",
      "mimetype": "text/x-python",
      "name": "python",
      "nbconvert_exporter": "python",
      "pygments_lexer": "ipython3",
      "version": "3.7.3"
    },
    "colab": {
      "name": "計數方法詞向量介紹_作業.ipynb",
      "provenance": [],
      "collapsed_sections": []
    }
  },
  "cells": [
    {
      "cell_type": "markdown",
      "metadata": {
        "id": "ja-7wAwzPPiT"
      },
      "source": [
        "## 作業目標: 透過思考與回答以更加了解計數方法的詞向量"
      ]
    },
    {
      "cell_type": "markdown",
      "metadata": {
        "id": "3He8eR1gPPiX"
      },
      "source": [
        "### 請問詞庫手法會有什麼樣的優缺點？\n",
        "\n",
        "詞庫手法為創建包含大量字詞的詞庫，將相同意思字詞(同義字)或相似意思字詞(相似字)分類在相同群組。\n",
        "\n",
        "優點:\n",
        "方便去辨識有相近含義的詞彙。\n",
        "\n",
        "缺點:\n",
        "建立需要大量成本且須時常進行維護。\n",
        "\n"
      ]
    },
    {
      "cell_type": "markdown",
      "metadata": {
        "id": "aVEmDhDBPPiY"
      },
      "source": [
        "### 請問共現矩陣有什麼樣的優缺點？ \n",
        "\n",
        "根據分佈假說，相似的字詞會有類似的上下文，因此我們可以透過計數周圍(window)的字詞來表達特定字詞的向量。\n",
        "\n",
        "優點:\n",
        "可以透過計數去取得字彙組成的頻率，並檢查是否誤用。\n",
        "\n",
        "缺點:\n",
        "可能會忽略掉一些較特殊的用法。"
      ]
    },
    {
      "cell_type": "markdown",
      "metadata": {
        "id": "ec8Z1S9RPPiY"
      },
      "source": [
        "### 請問為何需要對共現矩陣或PPMI進行SVD降維?\n",
        "\n",
        "減緩模型的複雜度"
      ]
    },
    {
      "cell_type": "markdown",
      "metadata": {
        "id": "x60pD5f_PPiY"
      },
      "source": [
        "### 實作cosine similarity\n",
        "\n",
        "在比較兩個詞向量的相似度時可以使用cosine similarity:\n",
        "$$\n",
        "similarity(x,y) = \\frac{x \\cdot y}{||x||||y||} = \\frac{x_1y_1+...+x_ny_n}{\\sqrt{x_1^2+...+x_n^2}\\sqrt{y_1^2+...+y_n^2}}\n",
        "$$\n",
        "\n",
        "請實作cosine similarity並計算共現矩陣課程範例中you向量([0,1,0,0,0,0,0])與I([0,1,0,1,0,0,0])向量的相似度"
      ]
    },
    {
      "cell_type": "code",
      "metadata": {
        "id": "BcCgRsn4PPiY",
        "colab": {
          "base_uri": "https://localhost:8080/"
        },
        "outputId": "e662e465-023e-441a-f988-89806030b4e1"
      },
      "source": [
        "import numpy as np\n",
        "I = np.array([0,1,0,0,0,0,0])\n",
        "You = np.array([0,1,0,1,0,0,0])\n",
        "\n",
        "def cos_similarity(x, y, eps=1e-8):\n",
        "    xy = np.multiply(x,y)\n",
        "    plus = xy.sum()\n",
        "    x_length = np.sqrt((x*x).sum()) \n",
        "    y_length = np.sqrt((y*y).sum()) \n",
        "    length = x_length * y_length\n",
        "    s = plus / length\n",
        "    return s\n",
        "\n",
        "print(f\"Similarity: {cos_similarity(I, You)}\")"
      ],
      "execution_count": null,
      "outputs": [
        {
          "output_type": "stream",
          "text": [
            "Similarity: 0.7071067811865475\n"
          ],
          "name": "stdout"
        }
      ]
    },
    {
      "cell_type": "code",
      "metadata": {
        "id": "v5XRS1bCPPiZ"
      },
      "source": [
        ""
      ],
      "execution_count": null,
      "outputs": []
    }
  ]
}